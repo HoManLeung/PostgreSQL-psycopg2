{
 "cells": [
  {
   "cell_type": "code",
   "execution_count": 1,
   "metadata": {},
   "outputs": [
    {
     "name": "stdout",
     "output_type": "stream",
     "text": [
      "Requirement already satisfied: psycopg2 in c:\\users\\asuspc\\anaconda3\\lib\\site-packages (2.8.4)\n",
      "Note: you may need to restart the kernel to use updated packages.\n"
     ]
    },
    {
     "name": "stderr",
     "output_type": "stream",
     "text": [
      "Error processing line 7 of C:\\Users\\AsusPC\\Anaconda3\\lib\\site-packages\\pywin32.pth:\n",
      "\n",
      "  Traceback (most recent call last):\n",
      "    File \"C:\\Users\\AsusPC\\Anaconda3\\lib\\site.py\", line 168, in addpackage\n",
      "      exec(line)\n",
      "    File \"<string>\", line 1, in <module>\n",
      "  ModuleNotFoundError: No module named 'pywin32_bootstrap'\n",
      "\n",
      "Remainder of file ignored\n"
     ]
    }
   ],
   "source": [
    "pip install psycopg2"
   ]
  },
  {
   "cell_type": "code",
   "execution_count": 2,
   "metadata": {},
   "outputs": [],
   "source": [
    "import psycopg2"
   ]
  },
  {
   "cell_type": "code",
   "execution_count": 22,
   "metadata": {},
   "outputs": [
    {
     "name": "stdout",
     "output_type": "stream",
     "text": [
      "orderid 10248 customerid VINET employeeid 5\n",
      "orderid 10254 customerid CHOPS employeeid 5\n",
      "orderid 10269 customerid WHITC employeeid 5\n",
      "orderid 10297 customerid BLONP employeeid 5\n",
      "orderid 10320 customerid WARTH employeeid 5\n",
      "orderid 10333 customerid WARTH employeeid 5\n",
      "orderid 10358 customerid LAMAI employeeid 5\n",
      "orderid 10359 customerid SEVES employeeid 5\n",
      "orderid 10372 customerid QUEEN employeeid 5\n",
      "orderid 10378 customerid FOLKO employeeid 5\n",
      "orderid 10397 customerid PRINI employeeid 5\n",
      "orderid 10463 customerid SUPRD employeeid 5\n",
      "orderid 10474 customerid PERIC employeeid 5\n",
      "orderid 10477 customerid PRINI employeeid 5\n",
      "orderid 10529 customerid MAISD employeeid 5\n",
      "orderid 10549 customerid QUICK employeeid 5\n",
      "orderid 10569 customerid RATTC employeeid 5\n",
      "orderid 10575 customerid MORGK employeeid 5\n",
      "orderid 10607 customerid SAVEA employeeid 5\n",
      "orderid 10648 customerid RICAR employeeid 5\n",
      "orderid 10649 customerid MAISD employeeid 5\n",
      "orderid 10650 customerid FAMIA employeeid 5\n",
      "orderid 10654 customerid BERGS employeeid 5\n",
      "orderid 10675 customerid FRANK employeeid 5\n",
      "orderid 10711 customerid SAVEA employeeid 5\n",
      "orderid 10714 customerid SAVEA employeeid 5\n",
      "orderid 10721 customerid QUICK employeeid 5\n",
      "orderid 10730 customerid BONAP employeeid 5\n",
      "orderid 10761 customerid RATTC employeeid 5\n",
      "orderid 10812 customerid REGGC employeeid 5\n",
      "orderid 10823 customerid LILAS employeeid 5\n",
      "orderid 10841 customerid SUPRD employeeid 5\n",
      "orderid 10851 customerid RICAR employeeid 5\n",
      "orderid 10866 customerid BERGS employeeid 5\n",
      "orderid 10869 customerid SEVES employeeid 5\n",
      "orderid 10870 customerid WOLZA employeeid 5\n",
      "orderid 10872 customerid GODOS employeeid 5\n",
      "orderid 10874 customerid GODOS employeeid 5\n",
      "orderid 10899 customerid LILAS employeeid 5\n",
      "orderid 10922 customerid HANAR employeeid 5\n",
      "orderid 10954 customerid LINOD employeeid 5\n",
      "orderid 11043 customerid SPECD employeeid 5\n"
     ]
    }
   ],
   "source": [
    "# connect to the db\n",
    "connection =psycopg2.connect(host='127.0.0.1',dbname='Data Mining', user='postgres',password='Rr24824487')\n",
    "\n",
    "#cursor\n",
    "cur=connection.cursor()\n",
    "\n",
    "#execute query\n",
    "cur.execute(\"select orderid,customerid,employeeid from orders where employeeid = '5'\")\n",
    "\n",
    "row=cur.fetchall()\n",
    "\n",
    "for r in row:\n",
    "    print(f\"orderid {r[0]} customerid {r[1]} employeeid {r[2]}\")\n",
    "    \n",
    "#close the cursor\n",
    "cur.close()\n",
    "\n",
    "#close the connection\n",
    "connection.close()"
   ]
  },
  {
   "cell_type": "code",
   "execution_count": 26,
   "metadata": {},
   "outputs": [],
   "source": [
    "import csv\n",
    "with open('postgre_result.csv', 'w', newline='') as file:\n",
    "    writer = csv.writer(file)\n",
    "    writer.writerow([\"orderid\", \"customerid\", \"employeeid\"])\n",
    "    for i in row:\n",
    "        writer.writerow(i)\n"
   ]
  }
 ],
 "metadata": {
  "kernelspec": {
   "display_name": "Python 3",
   "language": "python",
   "name": "python3"
  },
  "language_info": {
   "codemirror_mode": {
    "name": "ipython",
    "version": 3
   },
   "file_extension": ".py",
   "mimetype": "text/x-python",
   "name": "python",
   "nbconvert_exporter": "python",
   "pygments_lexer": "ipython3",
   "version": "3.7.4"
  }
 },
 "nbformat": 4,
 "nbformat_minor": 2
}
